{
 "cells": [
  {
   "cell_type": "code",
   "execution_count": 1,
   "metadata": {},
   "outputs": [
    {
     "name": "stderr",
     "output_type": "stream",
     "text": [
      "c:\\Users\\el debs\\AppData\\Local\\Programs\\Python\\Python310\\lib\\site-packages\\tqdm\\auto.py:22: TqdmWarning: IProgress not found. Please update jupyter and ipywidgets. See https://ipywidgets.readthedocs.io/en/stable/user_install.html\n",
      "  from .autonotebook import tqdm as notebook_tqdm\n"
     ]
    }
   ],
   "source": [
    "from data.dataset import get_ae_loader\n",
    "\n",
    "import pickle\n",
    "import numpy as np\n",
    "import torch\n",
    "import torch.nn as nn   \n",
    "import torchvision.transforms as T\n",
    "from torchsummary import summary\n",
    "\n",
    "from tqdm import tqdm\n",
    "\n",
    "from sklearn.metrics import ndcg_score"
   ]
  },
  {
   "cell_type": "code",
   "execution_count": 2,
   "metadata": {},
   "outputs": [],
   "source": [
    "device = \"cuda\" if torch.cuda.is_available() else \"cpu\"\n",
    "number_patient = 200\n",
    "\n",
    "class Autoencoder(nn.Module):\n",
    "    def __init__(self, latent_dim=256):\n",
    "        super(Autoencoder, self).__init__()\n",
    "        self.latent_dim = latent_dim\n",
    "\n",
    "        self.encoder = nn.Sequential(\n",
    "            nn.Conv2d(in_channels=5, out_channels=32, kernel_size=3, stride=2, padding=1),\n",
    "            nn.LeakyReLU(0.1, inplace=True),\n",
    "            nn.BatchNorm2d(32, momentum=0.9),\n",
    "            nn.Conv2d(32, 64, 3, stride=2, padding=1),\n",
    "            nn.LeakyReLU(0.1, inplace=True),\n",
    "            nn.BatchNorm2d(64, momentum=0.9),\n",
    "            nn.Conv2d(64, 128, 3, stride=2, padding=1),\n",
    "            nn.LeakyReLU(0.1, inplace=True),\n",
    "            nn.BatchNorm2d(128, momentum=0.9),\n",
    "            nn.Conv2d(128, 256, 3, stride=2, padding=1),\n",
    "            nn.LeakyReLU(0.1, inplace=True),\n",
    "            nn.BatchNorm2d(256, momentum=0.9),\n",
    "            nn.Conv2d(256, 256, 3, stride=2, padding=1),\n",
    "            nn.LeakyReLU(0.1, inplace=True),\n",
    "            nn.BatchNorm2d(256, momentum=0.9),\n",
    "            nn.Flatten(),\n",
    "            nn.Linear(256 * 3 * 4, self.latent_dim)\n",
    "        )\n",
    "\n",
    "        self.decoder = nn.Sequential(\n",
    "            nn.Linear(self.latent_dim, 256 * 3 * 4),\n",
    "            nn.Unflatten(1, (256, 3, 4)),\n",
    "            nn.ConvTranspose2d(self.latent_dim, 256, 3, stride=2, padding=1, output_padding=1),\n",
    "            nn.LeakyReLU(0.1, inplace=True),\n",
    "            nn.BatchNorm2d(256, momentum=0.9),\n",
    "            nn.ConvTranspose2d(256, 128, 3, stride=2, padding=1, output_padding=1),\n",
    "            nn.LeakyReLU(0.1, inplace=True),\n",
    "            nn.BatchNorm2d(128, momentum=0.9),\n",
    "            nn.ConvTranspose2d(128, 64, 3, stride=2, padding=1, output_padding=1),\n",
    "            nn.LeakyReLU(0.1, inplace=True),\n",
    "            nn.BatchNorm2d(64, momentum=0.9),\n",
    "            nn.ConvTranspose2d(64, 32, 3, stride=2, padding=1, output_padding=1),\n",
    "            nn.LeakyReLU(0.1, inplace=True),\n",
    "            nn.BatchNorm2d(32, momentum=0.9),\n",
    "            nn.ConvTranspose2d(32, 5, 3, stride=2, padding=1, output_padding=1),\n",
    "            nn.Tanh()\n",
    "        )\n",
    "\n",
    "    def encode(self, x):\n",
    "        return self.encoder(x)\n",
    "\n",
    "    def forward(self, x):\n",
    "        return self.decoder(self.encoder(x))\n",
    "\n",
    "    def train_reconstruction(self, loader, epochs=10, lr=0.001):\n",
    "        self.to(device)\n",
    "        self.train()\n",
    "        optimizer = torch.optim.Adam(self.parameters(), lr=lr)\n",
    "        criterion = nn.MSELoss()\n",
    "        for epoch in range(epochs):\n",
    "            for i, x in enumerate(loader):\n",
    "                x = x.to(device)\n",
    "                optimizer.zero_grad()\n",
    "                x_reconstructed = self.forward(x)\n",
    "                loss = criterion(x_reconstructed, x)\n",
    "                loss.backward()\n",
    "                optimizer.step()\n",
    "                if i % 100 == 0:\n",
    "                    print(f\"Epoch {epoch}, batch {i}/{len(loader)}, loss {loss.item()}\")"
   ]
  },
  {
   "cell_type": "markdown",
   "metadata": {},
   "source": [
    "## Loading encoder"
   ]
  },
  {
   "cell_type": "code",
   "execution_count": 3,
   "metadata": {},
   "outputs": [
    {
     "name": "stderr",
     "output_type": "stream",
     "text": [
      "100%|██████████| 200/200 [00:02<00:00, 74.71it/s]\n"
     ]
    },
    {
     "data": {
      "text/plain": [
       "<torch.utils.data.dataloader.DataLoader at 0x1c1f544ebf0>"
      ]
     },
     "execution_count": 3,
     "metadata": {},
     "output_type": "execute_result"
    }
   ],
   "source": [
    "# Loading Model\n",
    "ae = torch.load(\"./models/model.pth\", map_location = torch.device('cpu'))\n",
    "ae.eval()\n",
    "\n",
    "# Loading Dataset\n",
    "ae_dataset = get_ae_loader()\n",
    "ae_dataset"
   ]
  },
  {
   "cell_type": "markdown",
   "metadata": {},
   "source": [
    "## Getting similarity matrix"
   ]
  },
  {
   "cell_type": "code",
   "execution_count": 4,
   "metadata": {},
   "outputs": [],
   "source": [
    "def get_features_matrix_for ():\n",
    "    \"\"\"\n",
    "    Return features matrix for each patient \n",
    "    \"\"\"\n",
    "\n",
    "    result = None\n",
    "    arrays = []\n",
    "\n",
    "    for index, batch in enumerate (ae_dataset) :\n",
    "        arrays.append(ae.encode(batch))\n",
    "\n",
    "    result = torch.cat(tuple(arrays), dim=0)\n",
    "\n",
    "    return result \n",
    "\n",
    "def get_similarity_matrix_for () :\n",
    "    \"\"\"\n",
    "    Return a similarity matrix for a specific model\n",
    "    \"\"\"\n",
    "\n",
    "    distance_matrix = np.zeros((number_patient, number_patient))\n",
    "    result = get_features_matrix_for()\n",
    "\n",
    "    for patient_1 in range (0, number_patient) :\n",
    "        for patient_2 in range (0, number_patient) :\n",
    "            distance_matrix[patient_1, patient_2] = torch.linalg.norm(result[patient_1] - result[patient_2], ord=2)\n",
    "        \n",
    "    return distance_matrix\n",
    "\n",
    "def get_most_similar_patient (similarity_matrix) :\n",
    "    \"\"\"\n",
    "    Sort patient index in order of most relevent to less relevent\n",
    "    \"\"\"\n",
    "\n",
    "    temp = np.zeros((number_patient, number_patient))\n",
    "\n",
    "    for candidate in range (number_patient) :\n",
    "        temp[candidate] = np.argsort(similarity_matrix[candidate])\n",
    "\n",
    "    return temp\n",
    "\n",
    "def get_sort_similar (similarity_matrix) :\n",
    "    \"\"\"\n",
    "    Sort patient values\n",
    "    \"\"\"\n",
    "\n",
    "    temp = np.zeros((number_patient, number_patient))\n",
    "\n",
    "    for candidate in range (number_patient) :\n",
    "        temp[candidate] = np.sort(similarity_matrix[candidate])\n",
    "\n",
    "    return temp"
   ]
  },
  {
   "cell_type": "code",
   "execution_count": 5,
   "metadata": {},
   "outputs": [],
   "source": [
    "similarity = get_similarity_matrix_for ()\n",
    "most_relevent_candidate = get_most_similar_patient (similarity)\n",
    "most_relevent_candidate_value = get_sort_similar (similarity)"
   ]
  },
  {
   "cell_type": "markdown",
   "metadata": {},
   "source": [
    "## NDCG - Model AE"
   ]
  },
  {
   "cell_type": "code",
   "execution_count": 6,
   "metadata": {},
   "outputs": [
    {
     "name": "stderr",
     "output_type": "stream",
     "text": [
      "100%|██████████| 200/200 [00:00<00:00, 1526.62it/s]\n"
     ]
    }
   ],
   "source": [
    "ndcg_model_scores = np.zeros( (1, number_patient) )\n",
    "\n",
    "for patient in tqdm (range (number_patient)) :\n",
    "    ndcg_model_scores [0, patient] = ndcg_score([most_relevent_candidate[:,1:][patient]], [most_relevent_candidate_value[:,1:][patient]])\n"
   ]
  },
  {
   "cell_type": "code",
   "execution_count": 7,
   "metadata": {},
   "outputs": [
    {
     "data": {
      "text/plain": [
       "array([[0.83961056, 0.88383553, 0.87054429, 0.87591383, 0.86895926,\n",
       "        0.87228161, 0.87405983, 0.8715807 , 0.87778205, 0.86146356,\n",
       "        0.87618349, 0.86175342, 0.87179015, 0.87087355, 0.87416316,\n",
       "        0.87109873, 0.88181062, 0.87906211, 0.87703926, 0.87660961,\n",
       "        0.87539403, 0.88628887, 0.8778913 , 0.87270752, 0.881306  ,\n",
       "        0.8753331 , 0.87232484, 0.87466896, 0.86848021, 0.86587195,\n",
       "        0.87024061, 0.86935318, 0.87367539, 0.86381865, 0.85543065,\n",
       "        0.87309472, 0.85493976, 0.87354282, 0.87598589, 0.86634701,\n",
       "        0.87361909, 0.85600795, 0.867853  , 0.8747394 , 0.86094504,\n",
       "        0.87329141, 0.87908234, 0.87693997, 0.88187834, 0.86732479,\n",
       "        0.86497676, 0.88419229, 0.86844839, 0.87458724, 0.87405688,\n",
       "        0.8715949 , 0.87986657, 0.87968832, 0.86956496, 0.87150605,\n",
       "        0.87430771, 0.8712772 , 0.87034001, 0.88549137, 0.87215601,\n",
       "        0.86589508, 0.8721716 , 0.87357334, 0.88613337, 0.8626332 ,\n",
       "        0.87064182, 0.85760631, 0.87522236, 0.86002371, 0.87389434,\n",
       "        0.88405538, 0.8692947 , 0.87698322, 0.87063292, 0.87090766,\n",
       "        0.86616211, 0.86509918, 0.8714561 , 0.86973235, 0.87887386,\n",
       "        0.84125638, 0.87644673, 0.87372417, 0.88120328, 0.86073507,\n",
       "        0.87597812, 0.8806009 , 0.87261791, 0.86688637, 0.87811681,\n",
       "        0.87088206, 0.87011278, 0.8684042 , 0.87444574, 0.86674375,\n",
       "        0.86393433, 0.86973381, 0.87541035, 0.87324467, 0.87418246,\n",
       "        0.87182003, 0.87211695, 0.88314699, 0.87894971, 0.85573609,\n",
       "        0.86533854, 0.878275  , 0.86422698, 0.87667579, 0.87940688,\n",
       "        0.86673525, 0.87471131, 0.87247746, 0.87616261, 0.8584981 ,\n",
       "        0.86519556, 0.87189556, 0.87238639, 0.85871209, 0.87470087,\n",
       "        0.87081469, 0.86847748, 0.87175857, 0.88331854, 0.87258199,\n",
       "        0.87498539, 0.88598782, 0.86880585, 0.87047049, 0.88117108,\n",
       "        0.85467147, 0.8690978 , 0.8746956 , 0.87188284, 0.85756328,\n",
       "        0.86266509, 0.87091603, 0.87742686, 0.8739672 , 0.87167936,\n",
       "        0.87985933, 0.85972632, 0.86645286, 0.86487543, 0.87067976,\n",
       "        0.87220295, 0.85048819, 0.87260285, 0.87389263, 0.87255576,\n",
       "        0.87974033, 0.87080101, 0.88326198, 0.87092021, 0.83703205,\n",
       "        0.87291562, 0.88021698, 0.86922121, 0.8703771 , 0.87411212,\n",
       "        0.86159726, 0.87065944, 0.88643542, 0.85982895, 0.8754394 ,\n",
       "        0.87016358, 0.87653239, 0.86951034, 0.86055315, 0.86356052,\n",
       "        0.83691377, 0.86249055, 0.8585245 , 0.86552548, 0.89134931,\n",
       "        0.88342829, 0.86244204, 0.86145855, 0.87185907, 0.87941505,\n",
       "        0.87579841, 0.87791513, 0.87412862, 0.88130202, 0.86499055,\n",
       "        0.87147928, 0.8700275 , 0.88141797, 0.85905535, 0.86849757,\n",
       "        0.86489927, 0.86751194, 0.87202403, 0.87632593, 0.86947338]])"
      ]
     },
     "execution_count": 7,
     "metadata": {},
     "output_type": "execute_result"
    }
   ],
   "source": [
    "ndcg_model_scores"
   ]
  },
  {
   "cell_type": "code",
   "execution_count": 8,
   "metadata": {},
   "outputs": [],
   "source": [
    "with open (\"./data/early_fusion_ndcg.pickle\", \"wb\") as file:\n",
    "    pickle.dump(ndcg_model_scores, file)"
   ]
  }
 ],
 "metadata": {
  "interpreter": {
   "hash": "a4c1b5ee30376b71eaa339265b8dea39d4cdab92fa92b725320d3eb2e4642e28"
  },
  "kernelspec": {
   "display_name": "Python 3.10.2 64-bit",
   "language": "python",
   "name": "python3"
  },
  "language_info": {
   "codemirror_mode": {
    "name": "ipython",
    "version": 3
   },
   "file_extension": ".py",
   "mimetype": "text/x-python",
   "name": "python",
   "nbconvert_exporter": "python",
   "pygments_lexer": "ipython3",
   "version": "3.10.2"
  },
  "orig_nbformat": 4
 },
 "nbformat": 4,
 "nbformat_minor": 2
}
